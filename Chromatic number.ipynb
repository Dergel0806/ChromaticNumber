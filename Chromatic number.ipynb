{
 "cells": [
  {
   "cell_type": "code",
   "execution_count": 2,
   "metadata": {},
   "outputs": [],
   "source": [
    "import numpy as np\n",
    "import random\n",
    "import time\n",
    "import networkx as nx\n",
    "from networkx.algorithms.approximation.independent_set import maximum_independent_set\n",
    "import matplotlib.pyplot as plt\n",
    "import matplotlib.colors as colorNames\n",
    "from scipy.sparse import csr_matrix\n",
    "from scipy.sparse.csgraph import connected_components"
   ]
  },
  {
   "cell_type": "code",
   "execution_count": 3,
   "metadata": {},
   "outputs": [],
   "source": [
    "def grafgen(M, colors, paint = True, labels = None):\n",
    "    U = [ \"{}\".format(int(i+1)) for i in range(M.shape[0]) ]\n",
    "    G = nx.DiGraph()\n",
    "    G.add_edges_from([ (U[i], U[j]) for i, j in zip(*M.nonzero()) ])  \n",
    "    cols = []\n",
    "    for i in G.nodes():\n",
    "        cols.append(colors[int(i)-1])\n",
    "    if paint:\n",
    "        if labels == None:\n",
    "            labels = {node: int(node) - 1 for node in G.nodes()}\n",
    "        else:\n",
    "            labels = {node: labels[int(node) - 1] for node in G.nodes()}\n",
    "        nx.draw(G, node_size = 900, node_color = cols, labels = labels)\n",
    "    return G\n",
    "    \n",
    "def convertMatrixToList(mat):\n",
    "    res = []\n",
    "    for i in mat:\n",
    "        res.append(np.where(i != 0)[0])\n",
    "    return res"
   ]
  },
  {
   "cell_type": "code",
   "execution_count": 4,
   "metadata": {},
   "outputs": [],
   "source": [
    "def graphIsFull(graph):\n",
    "    fullGraph = np.ones((len(graph),len(graph))) - np.eye(len(graph))\n",
    "    return np.array_equal(graph,fullGraph)\n",
    "\n",
    "def p_zero(eigs):\n",
    "    return len(np.where(eigs == 0)[0])\n",
    "\n",
    "def p_neg(eigs):\n",
    "    return len(np.where(eigs < 0)[0])\n",
    "\n",
    "def p_pos(eigs):\n",
    "    return len(np.where(eigs > 0)[0])\n",
    "\n",
    "def chromaticNumberForFull(eigs):\n",
    "    return len(eigs)/(p_zero(eigs) + min(p_neg(eigs),p_pos(eigs)))"
   ]
  },
  {
   "cell_type": "code",
   "execution_count": 5,
   "metadata": {},
   "outputs": [],
   "source": [
    "def graphIsBipartite(eigs):\n",
    "    res = True\n",
    "    for x in eigs:\n",
    "        res = (len(np.where(abs(eigs + x) < 0.000001)[0]) != 0)\n",
    "        if not res:\n",
    "            return res\n",
    "    return res"
   ]
  },
  {
   "cell_type": "code",
   "execution_count": 6,
   "metadata": {},
   "outputs": [],
   "source": [
    "def find_all_paths(mat, start_vertex, end_vertex, path=[], first=True):\n",
    "    graph = convertMatrixToList(mat)\n",
    "    path = path + [start_vertex]\n",
    "    if start_vertex == end_vertex and not first:\n",
    "        return [path]\n",
    "    paths = []\n",
    "    for vertex in graph[start_vertex]:\n",
    "        if vertex not in path:\n",
    "            extended_paths = find_all_paths(mat, vertex, end_vertex, path, False)\n",
    "            for p in extended_paths: \n",
    "                paths.append(p)\n",
    "    return paths\n",
    "\n",
    "def findAllCycles(mat):\n",
    "    cycles = []\n",
    "    for i in range(len(mat)):\n",
    "        for j in mat[i]:\n",
    "            for cycle in find_all_paths(mat,i,j):\n",
    "                if len(cycle) > 2:\n",
    "                    cycle.append(i)\n",
    "                    cycles.append(cycle) \n",
    "    return cycles"
   ]
  },
  {
   "cell_type": "code",
   "execution_count": 7,
   "metadata": {},
   "outputs": [],
   "source": [
    "def graphIsRegular(eigs):\n",
    "    r = round(sum(np.power(eigs, 2)), 7)\n",
    "    return [round(r, 0) == r, r / len(eigs)]\n",
    "\n",
    "def MNK(A: np.array, b: np.array) -> np.array:\n",
    "    x = np.linalg.inv(A.T @ A) @ A.T @b\n",
    "    return x\n",
    "\n",
    "def charPol(mat, x):\n",
    "    return np.linalg.det(mat - x * np.eye(len(mat)))\n",
    "\n",
    "def powerOfPolInPol(coefsDivident, coefsDivisor):\n",
    "    res = 0\n",
    "    coefs = np.polydiv(coefsDivident, coefsDivisor)[0]\n",
    "    rem = np.polydiv(coefsDivident, coefsDivisor)[1]\n",
    "    while len(rem) > 1 or rem[0] > 0.00001:\n",
    "        coefs = np.polydiv(coefs, coefsDivisor)[0]\n",
    "        rem = np.polydiv(coefs, coefsDivisor)[1]\n",
    "        res += 1\n",
    "    return res    \n",
    "\n",
    "def graphIsRegularWithSpecificR(mat):\n",
    "    matForCoefDet = np.zeros((len(mat) + 1, len(mat) + 1))\n",
    "    for i in range(len(mat) + 1):\n",
    "        for j in range(len(mat) + 1):\n",
    "            matForCoefDet[i,j] = i ** (len(mat) - j)\n",
    "\n",
    "    vecForCoefDet = []\n",
    "    for i in range(len(matForCoefDet)):\n",
    "        vecForCoefDet.append(charPol(mat, i))\n",
    "    \n",
    "    coefsOfCharPol = MNK(matForCoefDet,vecForCoefDet)\n",
    "    return round(0.5 * (len(mat) + powerOfPolInPol(coefsOfCharPol, [1, -2])\\\n",
    "                  - powerOfPolInPol(coefsOfCharPol, [1, 2]) + coefsOfCharPol[3]), 5)"
   ]
  },
  {
   "cell_type": "code",
   "execution_count": 8,
   "metadata": {},
   "outputs": [],
   "source": [
    "def graphIsConnected(graph):\n",
    "    graph = csr_matrix(graph)\n",
    "    n_components, labels = connected_components(csgraph=graph, directed=False, return_labels=True)\n",
    "    return n_components == 1\n",
    "\n",
    "def p(x, eigs):\n",
    "    return len(np.where(eigs == x))\n",
    "\n",
    "def upperLimitForRegularAndConnected(eigs, r, n):\n",
    "    return r + min(p(r - n, eigs), p(0, eigs) // (n - r - 1) + p(2, eigs) + p(-1, eigs) // -3) - (n - r) * p(r - n, eigs)"
   ]
  },
  {
   "cell_type": "code",
   "execution_count": 9,
   "metadata": {},
   "outputs": [],
   "source": [
    "def upperLimitFromMax(eigs):\n",
    "    return max(eigs) + 1\n",
    "\n",
    "def upperLimitFromDims(graph):\n",
    "    m = len(np.where(graph != 0)[0])\n",
    "    return 1 + (2 * m * (1 - 1 / len(graph))) ** 0.5\n",
    "\n",
    "def upperLimitFromEdges(graph):\n",
    "    m = len(np.where(graph != 0)[0])\n",
    "    return 0.5 + (2 * m + 0.25) ** 0.5\n",
    "\n",
    "def lowerLimitFromMaxAndMin(eigs):\n",
    "    return -1 * max(eigs) / min(eigs) + 1\n",
    "\n",
    "def upperLimitFromHellerLemma(graph):\n",
    "    m = len(np.where(graph != 0)[0])\n",
    "    n = len(graph)\n",
    "    if n ** 2 - 2 * m == 0:\n",
    "        return 'Impossible to use Heller lemma!'\n",
    "    return n ** 2 / (n ** 2 - 2 * m)\n",
    "\n",
    "def lowerLimitFromIndex(r, n):\n",
    "    return n / (n - r)\n",
    "\n",
    "def graphIsEvenCycle(mat):\n",
    "    cyclesLen = [(lambda i:len(i) - 1)(i) for i in findAllCycles(mat)]\n",
    "    return max([num for num in cyclesLen if num % 2 == 1]) == len(mat)\n",
    "\n",
    "def upperLimitFromBruxTheorema(mat):\n",
    "    if graphIsFull(mat) or graphIsEvenCycle(mat):\n",
    "        return max([(lambda i: len(i))(i) for i in convertMatrixToList(mat)]) + 1\n",
    "    return max([(lambda i: len(i))(i) for i in convertMatrixToList(mat)])\n",
    "\n",
    "def lowerLimitFromMaxIndSet(mat):\n",
    "    return len(mat) / int(maximum_independent_set(grafgen(mat, suboptColors, False)).pop())"
   ]
  },
  {
   "cell_type": "code",
   "execution_count": 10,
   "metadata": {},
   "outputs": [],
   "source": [
    "def chromaticNumber(mat):\n",
    "    eigenvals = np.linalg.eig(mat)[0]\n",
    "    if graphIsFull(mat):\n",
    "        return chromaticNumberForFull(eigenvals)\n",
    "    \n",
    "    if graphIsBipartite(eigenvals):\n",
    "        return 2\n",
    "    \n",
    "    if graphIsRegular(eigenvals)[0]:\n",
    "        if graphIsRegular(eigenvals)[1] == len(mat) - 3 and graphIsConnected(mat):\n",
    "            return graphIsRegularWithSpecificR(mat)"
   ]
  },
  {
   "cell_type": "markdown",
   "metadata": {},
   "source": [
    "## Input Matrix:"
   ]
  },
  {
   "cell_type": "code",
   "execution_count": 10,
   "metadata": {},
   "outputs": [
    {
     "name": "stdout",
     "output_type": "stream",
     "text": [
      "0 1 1 1 0 1\n",
      "1 0 1 1 1 0\n",
      "1 1 0 0 1 1\n",
      "1 1 0 0 1 1\n",
      "0 1 1 1 0 1\n",
      "1 0 1 1 1 0\n",
      "[[0. 1. 1. 1. 0. 1.]\n",
      " [1. 0. 1. 1. 1. 0.]\n",
      " [1. 1. 0. 0. 1. 1.]\n",
      " [1. 1. 0. 0. 1. 1.]\n",
      " [0. 1. 1. 1. 0. 1.]\n",
      " [1. 0. 1. 1. 1. 0.]]\n"
     ]
    }
   ],
   "source": [
    "#Take matrix size from first row input\n",
    "\n",
    "firstRow = input().split(\" \")\n",
    "n = len(firstRow)\n",
    "\n",
    "#initialise nxn matrix with zeroes\n",
    "mat = np.zeros((n,n))\n",
    "\n",
    "mat[0] = firstRow\n",
    "#input each row at a time,with each element separated by a space\n",
    "for i in range(1, n):\n",
    "   mat[i] = input().split(\" \")\n",
    "\n",
    "print(mat) "
   ]
  },
  {
   "cell_type": "markdown",
   "metadata": {},
   "source": [
    "# Graph Specter"
   ]
  },
  {
   "cell_type": "code",
   "execution_count": 11,
   "metadata": {},
   "outputs": [
    {
     "name": "stdout",
     "output_type": "stream",
     "text": [
      "\u001b[1mGiven matrix has such eigenvalues and eigenvectors:\u001b[0m\n",
      "\n",
      "\u001b[1mEigenvalue:\u001b[0m\n",
      "3.999999999999998\n",
      "\u001b[1mEigenvector:\u001b[0m\n",
      "[0.40824829 0.40824829 0.40824829 0.40824829 0.40824829 0.40824829]\n",
      "\n",
      "\u001b[1mEigenvalue:\u001b[0m\n",
      "-2.0\n",
      "\u001b[1mEigenvector:\u001b[0m\n",
      "[ 0.57735027 -0.28867513 -0.28867513 -0.28867513  0.57735027 -0.28867513]\n",
      "\n",
      "\u001b[1mEigenvalue:\u001b[0m\n",
      "2.3670935836458137e-16\n",
      "\u001b[1mEigenvector:\u001b[0m\n",
      "[ 2.86911039e-03  7.07100960e-01 -3.52215907e-17  4.84949275e-17\n",
      " -2.86911039e-03 -7.07100960e-01]\n",
      "\n",
      "\u001b[1mEigenvalue:\u001b[0m\n",
      "-9.725444256624274e-17\n",
      "\u001b[1mEigenvector:\u001b[0m\n",
      "[-5.83004557e-01  4.00132086e-01  3.66553474e-17 -7.76343068e-18\n",
      "  5.83004557e-01 -4.00132086e-01]\n",
      "\n",
      "\u001b[1mEigenvalue:\u001b[0m\n",
      "-2.0\n",
      "\u001b[1mEigenvector:\u001b[0m\n",
      "[ 0.11324116 -0.54690859  0.43366743  0.43366743  0.11324116 -0.54690859]\n",
      "\n",
      "\u001b[1mEigenvalue:\u001b[0m\n",
      "0.0\n",
      "\u001b[1mEigenvector:\u001b[0m\n",
      "[-6.09831730e-17  3.40922237e-16 -7.07106781e-01  7.07106781e-01\n",
      "  7.44524369e-17 -3.30083010e-16]\n",
      "\n"
     ]
    }
   ],
   "source": [
    "eigenvectors = np.zeros((len(np.linalg.eig(mat)[1]),len(np.linalg.eig(mat)[1])))\n",
    "for i in range(len(np.linalg.eig(mat)[1])):   \n",
    "    eigenvectors[i] = np.linalg.eig(mat)[1][:,i]\n",
    "    \n",
    "eigenvalues = np.linalg.eig(mat)[0]\n",
    "print('\\033[1m'+'Given matrix has such eigenvalues and eigenvectors:'+'\\033[0m')\n",
    "print()\n",
    "\n",
    "for i in range(len(np.linalg.eig(mat)[0])):\n",
    "    print ('\\033[1m'+'Eigenvalue:'+'\\033[0m')\n",
    "    print(eigenvalues[i])\n",
    "    print ('\\033[1m'+'Eigenvector:'+'\\033[0m')\n",
    "    print(eigenvectors[i])\n",
    "    print()  "
   ]
  },
  {
   "cell_type": "markdown",
   "metadata": {},
   "source": [
    "## Exact Chromatic Number:"
   ]
  },
  {
   "cell_type": "code",
   "execution_count": 12,
   "metadata": {},
   "outputs": [
    {
     "name": "stdout",
     "output_type": "stream",
     "text": [
      "Exact Chromatic Number:\n",
      "None\n",
      "\n"
     ]
    }
   ],
   "source": [
    "print('Exact Chromatic Number:')\n",
    "print(chromaticNumber(mat))\n",
    "print()"
   ]
  },
  {
   "cell_type": "code",
   "execution_count": 13,
   "metadata": {},
   "outputs": [],
   "source": [
    "def timeit(f, *args):\n",
    "    start = time.time()\n",
    "    res = f(*args)\n",
    "    end = time.time()\n",
    "    delta = end - start if end - start != 0 else 'less than 10^-16'\n",
    "    if end - start == 0:\n",
    "        print()\n",
    "    print(f'This function took {delta} seconds to execute.')\n",
    "    return f'Limit is {res}'"
   ]
  },
  {
   "cell_type": "markdown",
   "metadata": {},
   "source": [
    "## Graph coloring:\n"
   ]
  },
  {
   "cell_type": "code",
   "execution_count": 11,
   "metadata": {},
   "outputs": [],
   "source": [
    "## Построить правильную вершинную раскраску графа.\n",
    "## \\param graph -- граф в виде массива множеств номеров смежных вершин\n",
    "## \\param forbidden -- массив множеств запрещённых цветов для каждой вершины\n",
    "## \\param color -- массив цветов вершин\n",
    "## \\return массив (новых) цветов вершин\n",
    "def coloring(mat, forbidden=None, color=None):\n",
    "    graph = convertMatrixToList(mat)\n",
    "    if forbidden is None: forbidden = []\n",
    "    if color is None: color = []\n",
    "    # Предусловия.\n",
    "    assert len(forbidden) == 0 or len(forbidden) == len(graph)\n",
    "    assert len(color) == 0 or len(color) == len(graph)\n",
    " \n",
    "    if len(forbidden) == 0:\n",
    "        forbidden = [frozenset()]*len(graph)\n",
    "    # Раскраска в два цвета поиском в глубину.\n",
    "    def coloring2():\n",
    "        color2 = [0]*len(graph)\n",
    "        def dfsColoring2(u, c=1):\n",
    "            if color2[u] == 0:\n",
    "                for d in range(c, len(graph)+1):\n",
    "                    if d not in forbidden[u]:\n",
    "                        color2[u] = d\n",
    "                        break\n",
    "                c = 3 - c\n",
    "                for v in graph[u]:\n",
    "                    dfsColoring2(v, c)\n",
    "\n",
    "        for start in range(0, len(graph)):\n",
    "            dfsColoring2(start)\n",
    "        return color2\n",
    "\n",
    "    # Построить начальную раскраску, если требуется.\n",
    "    if len(color) == 0:\n",
    "        color = coloring2()\n",
    "    # Перечислить текущие конфликты цветов.\n",
    "    def listConflicts():\n",
    "        conflicts = []\n",
    "        for u in range(0, len(graph)):\n",
    "            nc = [color[v] for v in graph[u]]\n",
    "            conflict_rank = nc.count(color[u])\n",
    "            if conflict_rank > 0:\n",
    "                nc = frozenset(nc) | forbidden[u]\n",
    "                new_color = max(nc) + 1\n",
    "                for c in range(1, new_color-1):\n",
    "                    if c not in nc:\n",
    "                        new_color = c\n",
    "                        break\n",
    "                conflict = (conflict_rank, new_color, u)\n",
    "                conflicts.append(conflict)\n",
    "        conflicts.sort(\n",
    "            key=lambda c: (c[0], -c[1], c[2]), reverse=True)\n",
    "        return conflicts\n",
    "\n",
    "    # Разрешить конфликты цветов (потенциально не все).\n",
    "    def resolveConflicts(conflicts):\n",
    "        closed = set()\n",
    "        for _, new_color, u in conflicts:\n",
    "            if u in closed:\n",
    "                continue\n",
    "            color[u] = new_color\n",
    "            closed |= set(graph[u])\n",
    "\n",
    "    # Собственно алгоритм: начиная с некоторой раскраски,\n",
    "    # повторять обнаружение и разрешение конфликтов, \n",
    "    # пока список конфликтов не опустеет.\n",
    "    interrupt = 0\n",
    "    while True:\n",
    "        conflicts = listConflicts()\n",
    "        prevLen = len(conflicts)\n",
    "        if len(conflicts) == 0:\n",
    "            return color\n",
    "        resolveConflicts(conflicts)\n",
    "        if prevLen == len(conflicts):\n",
    "            interrupt += 1\n",
    "        if interrupt == 100:\n",
    "            return color"
   ]
  },
  {
   "cell_type": "markdown",
   "metadata": {},
   "source": [
    "# Optimal Graph Coloring"
   ]
  },
  {
   "cell_type": "code",
   "execution_count": 38,
   "metadata": {},
   "outputs": [
    {
     "data": {
      "text/plain": [
       "<networkx.classes.digraph.DiGraph at 0x20860af1780>"
      ]
     },
     "execution_count": 38,
     "metadata": {},
     "output_type": "execute_result"
    },
    {
     "data": {
      "image/png": "[encoded data removed]",
      "text/plain": [
       "<Figure size 432x288 with 1 Axes>"
      ]
     },
     "metadata": {},
     "output_type": "display_data"
    }
   ],
   "source": [
    "suboptColorsNumbers = coloring(mat)\n",
    "suboptColors = []\n",
    "COLORS = []\n",
    "for name, hex in colorNames.cnames.items():\n",
    "    COLORS.append(name)\n",
    "random.shuffle(COLORS)   \n",
    "for i in suboptColorsNumbers:\n",
    "    suboptColors.append(COLORS[i])\n",
    "    \n",
    "grafgen(mat, suboptColors)"
   ]
  },
  {
   "cell_type": "markdown",
   "metadata": {},
   "source": [
    "## Chromatic Number Limits From Different Theorems:"
   ]
  },
  {
   "cell_type": "code",
   "execution_count": 16,
   "metadata": {},
   "outputs": [
    {
     "name": "stdout",
     "output_type": "stream",
     "text": [
      "\u001b[1mUpper Limits:\u001b[0m\n",
      "\n",
      "Upper Limit From Maximum Of Eigenvalues:\n",
      "\n",
      "This function took less than 10^-16 seconds to execute.\n",
      "Limit is 4.999999999999998\n",
      "\n",
      "Upper Limit From Dimensions:\n",
      "\n",
      "This function took less than 10^-16 seconds to execute.\n",
      "Limit is 7.324555320336759\n",
      "\n",
      "Upper Limit From Edges Quantity:\n",
      "\n",
      "This function took less than 10^-16 seconds to execute.\n",
      "Limit is 7.446221994724902\n",
      "\n",
      "Upper Limit From Brux Theorema:\n",
      "This function took 0.06285810470581055 seconds to execute.\n",
      "Limit is 4\n",
      "\n",
      "Upper Limit From Heller Lemma:\n",
      "\n",
      "This function took less than 10^-16 seconds to execute.\n",
      "Limit is -3.0\n",
      "\n",
      "\u001b[1mLower Limits:\u001b[0m\n",
      "\n",
      "Lower Limit From Maximum And Minimum Of Eigenvalues:\n",
      "\n",
      "This function took less than 10^-16 seconds to execute.\n",
      "Limit is 2.999999999999999\n",
      "\n",
      "Lower Limit From Regularity Index\n",
      "\n",
      "This function took less than 10^-16 seconds to execute.\n",
      "Limit is 3.0\n",
      "\n",
      "Lower Limit From Maximum Independent Set Size:\n",
      "This function took 0.0009732246398925781 seconds to execute.\n",
      "Limit is 2.0\n",
      "\n"
     ]
    }
   ],
   "source": [
    "print('\\033[1m'+'Upper Limits:'+'\\033[0m')\n",
    "print()\n",
    "print('Upper Limit From Maximum Of Eigenvalues:')\n",
    "print(timeit(upperLimitFromMax, eigenvalues))\n",
    "print()\n",
    "\n",
    "print('Upper Limit From Dimensions:')\n",
    "print(timeit(upperLimitFromDims, mat))\n",
    "print()\n",
    "\n",
    "if graphIsConnected(mat):\n",
    "    print('Upper Limit From Edges Quantity:')\n",
    "    print(timeit(upperLimitFromEdges, mat))\n",
    "    print()\n",
    "\n",
    "if len(eigenvalues) - graphIsRegular(eigenvalues)[1] % 2 == 0 and graphIsConnected(mat):\n",
    "    print('Upper Limit For Regular And Connected Graph With Odd n - r:')\n",
    "    print(timeit(upperLimitForRegularAndConnected,eigenvalues, graphIsRegular(eigenvalues)[1], len(eigenvalues)))\n",
    "    print()\n",
    "    \n",
    "print('Upper Limit From Brux Theorema:')\n",
    "print(timeit(upperLimitFromBruxTheorema,mat))\n",
    "print()   \n",
    "\n",
    "print('Upper Limit From Heller Lemma:')\n",
    "print(timeit(upperLimitFromHellerLemma,mat))\n",
    "print()\n",
    "\n",
    "print('\\033[1m'+'Lower Limits:'+'\\033[0m')\n",
    "print()\n",
    "\n",
    "print('Lower Limit From Maximum And Minimum Of Eigenvalues:')\n",
    "print(timeit(lowerLimitFromMaxAndMin,eigenvalues))\n",
    "print()\n",
    "\n",
    "if graphIsRegular(eigenvalues)[0]:\n",
    "    print('Lower Limit From Regularity Index')\n",
    "    print(timeit(lowerLimitFromIndex,graphIsRegular(eigenvalues)[1], len(mat)))\n",
    "    print()\n",
    "    \n",
    "print('Lower Limit From Maximum Independent Set Size:')\n",
    "print(timeit(lowerLimitFromMaxIndSet,mat))\n",
    "print()"
   ]
  },
  {
   "cell_type": "markdown",
   "metadata": {},
   "source": [
    "# Sceduling"
   ]
  },
  {
   "cell_type": "markdown",
   "metadata": {},
   "source": [
    "## Input scheduling matrix:"
   ]
  },
  {
   "cell_type": "code",
   "execution_count": 13,
   "metadata": {
    "scrolled": true
   },
   "outputs": [
    {
     "name": "stdout",
     "output_type": "stream",
     "text": [
      "Input schedule names:\n",
      "Сисан, Матан, Линейная алгебра, Физика, Теория управления, Нейронные сети\n",
      "\n",
      "Input matrix:\n",
      "0 1 1 0 0 1\n",
      "1 0 1 0 1 0\n",
      "1 1 0 1 0 0\n",
      "0 0 1 0 1 1\n",
      "0 1 0 1 0 1\n",
      "1 0 0 1 1 0\n",
      "[[0. 1. 1. 0. 0. 1.]\n",
      " [1. 0. 1. 0. 1. 0.]\n",
      " [1. 1. 0. 1. 0. 0.]\n",
      " [0. 0. 1. 0. 1. 1.]\n",
      " [0. 1. 0. 1. 0. 1.]\n",
      " [1. 0. 0. 1. 1. 0.]]\n"
     ]
    }
   ],
   "source": [
    "print('Input schedule names:')\n",
    "scheduleNames = input().split(\", \")\n",
    "print()\n",
    "\n",
    "print('Input matrix:')\n",
    "#Take matrix size from first row input\n",
    "firstRow = input().split(\" \")\n",
    "n = len(firstRow)\n",
    "\n",
    "#initialise nxn matrix with zeroes\n",
    "schedule = np.zeros((n,n))\n",
    "\n",
    "schedule[0] = firstRow\n",
    "#input each row at a time,with each element separated by a space\n",
    "for i in range(1, n):\n",
    "   schedule[i] = input().split(\" \")\n",
    "\n",
    "print(schedule) "
   ]
  },
  {
   "cell_type": "code",
   "execution_count": 17,
   "metadata": {},
   "outputs": [
    {
     "data": {
      "text/plain": [
       "<networkx.classes.digraph.DiGraph at 0x26fb8723518>"
      ]
     },
     "execution_count": 17,
     "metadata": {},
     "output_type": "execute_result"
    },
    {
     "data": {
      "image/png": "[encoded data removed]",
      "text/plain": [
       "<Figure size 432x288 with 1 Axes>"
      ]
     },
     "metadata": {},
     "output_type": "display_data"
    }
   ],
   "source": [
    "suboptColorsNumbersForSchedule = coloring(schedule)\n",
    "suboptColorsForSchedule = []\n",
    "COLORS = []\n",
    "for name, hex in colorNames.cnames.items():\n",
    "    COLORS.append(name)\n",
    "random.shuffle(COLORS)   \n",
    "for i in suboptColorsNumbersForSchedule:\n",
    "    suboptColorsForSchedule.append(COLORS[i])\n",
    "optimalSchedule = []\n",
    "for i in range(max(suboptColorsNumbersForSchedule)):\n",
    "    optimalSchedule.append([])\n",
    "for i in range(len(scheduleNames)):\n",
    "    optimalSchedule[suboptColorsNumbersForSchedule[i] - 1].append(scheduleNames[i])\n",
    "\n",
    "grafgen(schedule, suboptColorsForSchedule, labels = scheduleNames)    "
   ]
  },
  {
   "cell_type": "markdown",
   "metadata": {},
   "source": [
    "# Optimal Schedule:"
   ]
  },
  {
   "cell_type": "code",
   "execution_count": 18,
   "metadata": {},
   "outputs": [
    {
     "data": {
      "text/plain": [
       "[['Сисан', 'Теория управления'],\n",
       " ['Матан', 'Физика'],\n",
       " ['Линейная алгебра', 'Нейронные сети']]"
      ]
     },
     "execution_count": 18,
     "metadata": {},
     "output_type": "execute_result"
    }
   ],
   "source": [
    "optimalSchedule"
   ]
  },
  {
   "cell_type": "code",
   "execution_count": null,
   "metadata": {},
   "outputs": [],
   "source": []
  }
 ],
 "metadata": {
  "kernelspec": {
   "display_name": "Python 3",
   "language": "python",
   "name": "python3"
  },
  "language_info": {
   "codemirror_mode": {
    "name": "ipython",
    "version": 3
   },
   "file_extension": ".py",
   "mimetype": "text/x-python",
   "name": "python",
   "nbconvert_exporter": "python",
   "pygments_lexer": "ipython3",
   "version": "3.7.3"
  }
 },
 "nbformat": 4,
 "nbformat_minor": 2
}
