{
 "cells": [
  {
   "cell_type": "code",
   "execution_count": 1,
   "metadata": {},
   "outputs": [],
   "source": [
    "import numpy as np\n",
    "import networkx as nx\n",
    "import matplotlib.pyplot as plt\n",
    "from scipy.sparse import csr_matrix\n",
    "from scipy.sparse.csgraph import connected_components"
   ]
  },
  {
   "cell_type": "code",
   "execution_count": 47,
   "metadata": {},
   "outputs": [],
   "source": [
    "def grafgen(M):\n",
    "    U = [ \"{}\".format(int(i+1)) for i in range(M.shape[0]) ]\n",
    "    G = nx.DiGraph()\n",
    "    G.add_edges_from([ (U[i], U[j]) for i, j in zip(*M.nonzero()) ])\n",
    "    pos = nx.spring_layout(G)\n",
    "    plt.figure()    \n",
    "    nx.draw(G, pos, edge_color = 'black', width = 1, linewidths =1 ,\\\n",
    "    node_size = 900, node_color = 'pink', alpha = 0.9,\\\n",
    "    labels = {node:node for node in G.nodes()})\n",
    "    for i, j in zip(*M.nonzero()):\n",
    "        #G.add_edge(U[i], U[j], weight=M[i][j], type=\"green\")\n",
    "        nx.draw_networkx_edge_labels(G,pos,edge_labels={(U[i], U[j]): str(M[i][j])}) \n",
    "    plt.axis('off')\n",
    "    plt.show()"
   ]
  },
  {
   "cell_type": "code",
   "execution_count": 3,
   "metadata": {},
   "outputs": [],
   "source": [
    "def graphIsFull(graph):\n",
    "    fullGraph = np.ones((len(graph),len(graph))) - np.eye(len(graph))\n",
    "    return np.array_equal(graph,fullGraph)\n",
    "\n",
    "def p_zero(eigs):\n",
    "    return len(np.where(eigs == 0)[0])\n",
    "\n",
    "def p_neg(eigs):\n",
    "    return len(np.where(eigs < 0)[0])\n",
    "\n",
    "def p_pos(eigs):\n",
    "    return len(np.where(eigs > 0)[0])\n",
    "\n",
    "def chromaticNumberForFull(eigs):\n",
    "    return len(eigs)/(p_zero(eigs) + min(p_neg(eigs),p_pos(eigs)))"
   ]
  },
  {
   "cell_type": "code",
   "execution_count": 4,
   "metadata": {},
   "outputs": [],
   "source": [
    "def graphIsBipartite(eigs):\n",
    "    res = True\n",
    "    for x in eigs:\n",
    "        res = (len(np.where(eigs == -x)[0]) != 0)\n",
    "        if not res:\n",
    "            return res\n",
    "    return res"
   ]
  },
  {
   "cell_type": "code",
   "execution_count": 5,
   "metadata": {},
   "outputs": [],
   "source": [
    "def graphIsRegular(eigs):\n",
    "    r = round(sum(np.power(eigs, 2)), 7)\n",
    "    return [round(r, 0) == r, r]\n",
    "\n",
    "def graphIsRegularWithSpecificR(eigs):\n",
    "    return 0 #TBD"
   ]
  },
  {
   "cell_type": "code",
   "execution_count": 27,
   "metadata": {},
   "outputs": [],
   "source": [
    "def graphIsConnected(graph):\n",
    "    graph = csr_matrix(graph)\n",
    "    n_components, labels = connected_components(csgraph=graph, directed=False, return_labels=True)\n",
    "    return n_components == 1\n",
    "\n",
    "def p(x, eigs):\n",
    "    return len(np.where(eigs == x))\n",
    "\n",
    "def upperLimitForRegularAndConnected(eigs, r, n):\n",
    "    return r + min(p(r - n, eigs), p(0, eigs) // (n - r - 1) + p(2, eigs) + p(-1, eigs) // -3) - (n - r) * p(r - n, eigs)"
   ]
  },
  {
   "cell_type": "code",
   "execution_count": 43,
   "metadata": {},
   "outputs": [],
   "source": [
    "def upperLimitFromMax(eigs):\n",
    "    return max(eigs) + 1\n",
    "\n",
    "def upperLimitFromDims(graph):\n",
    "    m = len(np.where(graph != 0)[0])\n",
    "    return 1 + (2 * m * (1 - 1 / len(graph))) ** 0.5\n",
    "\n",
    "def upperLimitFromEdges(graph):\n",
    "    m = len(np.where(graph != 0)[0])\n",
    "    return 0.5 + (2 * m + 0.25) ** 0.5\n",
    "\n",
    "def lowerLimitFromMaxAndMin(eigs):\n",
    "    return -1 * max(eigs) / min(eigs) + 1\n",
    "\n",
    "def lowerLimitFromHellerLemma(graph):\n",
    "    m = len(np.where(graph != 0)[0])\n",
    "    n = len(graph)\n",
    "    return n ** 2 / (n ** 2 - 2 * m)\n",
    "\n",
    "def lowerLimitFromIndex(r, n):\n",
    "    return n / (n - r)"
   ]
  },
  {
   "cell_type": "code",
   "execution_count": 17,
   "metadata": {},
   "outputs": [],
   "source": [
    "def chromaticNumber(mat):\n",
    "    eigenvals = np.linalg.eig(mat)[0]\n",
    "    if graphIsFull(mat):\n",
    "        return chromaticNumberForFull(eigenvals)\n",
    "    \n",
    "    if graphIsBipartite(eigenvals):\n",
    "        return 2\n",
    "    \n",
    "    if graphIsRegular(eigenvals)[0]:\n",
    "        if graphIsRegular(eigenvals)[1] == len(eigenvals) - 3:\n",
    "            return graphIsRegularWithSpecificR(eigenvals)"
   ]
  },
  {
   "cell_type": "code",
   "execution_count": 10,
   "metadata": {},
   "outputs": [
    {
     "name": "stdout",
     "output_type": "stream",
     "text": [
      "0 1 1 1\n",
      "1 0 1 1\n",
      "1 1 0 1\n",
      "1 1 1 0\n",
      "[[0. 1. 1. 1.]\n",
      " [1. 0. 1. 1.]\n",
      " [1. 1. 0. 1.]\n",
      " [1. 1. 1. 0.]]\n"
     ]
    }
   ],
   "source": [
    "#Take matrix size from first row input\n",
    "\n",
    "firstRow = input().split(\" \")\n",
    "n = len(firstRow)\n",
    "\n",
    "#initialise nxn matrix with zeroes\n",
    "mat = np.zeros((n,n))\n",
    "\n",
    "mat[0] = firstRow\n",
    "#input each row at a time,with each element separated by a space\n",
    "for i in range(1, n):\n",
    "   mat[i] = input().split(\" \")\n",
    "\n",
    "print(mat) "
   ]
  },
  {
   "cell_type": "code",
   "execution_count": 11,
   "metadata": {},
   "outputs": [
    {
     "name": "stdout",
     "output_type": "stream",
     "text": [
      "\u001b[1mGiven matrix has such eigenvalues and eigenvectors:\u001b[0m\n",
      "\n",
      "\u001b[1mEigenvalue:\u001b[0m\n",
      "-1.0\n",
      "\u001b[1mEigenvector:\u001b[0m\n",
      "[-0.8660254   0.28867513  0.28867513  0.28867513]\n",
      "\n",
      "\u001b[1mEigenvalue:\u001b[0m\n",
      "3.0\n",
      "\u001b[1mEigenvector:\u001b[0m\n",
      "[0.5 0.5 0.5 0.5]\n",
      "\n",
      "\u001b[1mEigenvalue:\u001b[0m\n",
      "-0.9999999999999998\n",
      "\u001b[1mEigenvector:\u001b[0m\n",
      "[ 0.21699376 -0.86278187  0.32289406  0.32289406]\n",
      "\n",
      "\u001b[1mEigenvalue:\u001b[0m\n",
      "-1.0\n",
      "\u001b[1mEigenvector:\u001b[0m\n",
      "[ 0.          0.         -0.70710678  0.70710678]\n",
      "\n"
     ]
    },
    {
     "data": {
      "image/png": "[encoded data removed]",
      "text/plain": [
       "<Figure size 432x288 with 1 Axes>"
      ]
     },
     "metadata": {},
     "output_type": "display_data"
    }
   ],
   "source": [
    "eigenvectors = np.zeros((len(np.linalg.eig(mat)[1]),len(np.linalg.eig(mat)[1])))\n",
    "for i in range(len(np.linalg.eig(mat)[1])):   \n",
    "    eigenvectors[i] = np.linalg.eig(mat)[1][:,i]\n",
    "    \n",
    "eigenvalues = np.linalg.eig(mat)[0]\n",
    "print('\\033[1m'+'Given matrix has such eigenvalues and eigenvectors:'+'\\033[0m')\n",
    "print()\n",
    "\n",
    "for i in range(len(np.linalg.eig(mat)[0])):\n",
    "    print ('\\033[1m'+'Eigenvalue:'+'\\033[0m')\n",
    "    print(eigenvalues[i])\n",
    "    print ('\\033[1m'+'Eigenvector:'+'\\033[0m')\n",
    "    print(eigenvectors[i])\n",
    "    print()\n",
    "    \n",
    "grafgen(mat)    "
   ]
  },
  {
   "cell_type": "code",
   "execution_count": 32,
   "metadata": {},
   "outputs": [
    {
     "name": "stdout",
     "output_type": "stream",
     "text": [
      "Exact Chromatic Number:\n",
      "4.0\n",
      "\n"
     ]
    }
   ],
   "source": [
    "print('Exact Chromatic Number:')\n",
    "print(chromaticNumber(mat))\n",
    "print()"
   ]
  },
  {
   "cell_type": "code",
   "execution_count": 45,
   "metadata": {},
   "outputs": [
    {
     "name": "stdout",
     "output_type": "stream",
     "text": [
      "Upper Limit From Maximum Of Eigenvalues:\n",
      "4.0\n",
      "\n",
      "Upper Limit From Dimensions:\n",
      "5.242640687119285\n",
      "\n",
      "Lower Limit From Maximum And Minimum Of Eigenvalues:\n",
      "4.0\n",
      "\n",
      "Lower Limit From Heller Lemma:\n",
      "-2.0\n",
      "\n",
      "Upper Limit From Edges Quantaty:\n",
      "5.424428900898052\n",
      "\n",
      "Lower Limit From Regularity Index\n",
      "-0.5\n",
      "\n"
     ]
    }
   ],
   "source": [
    "print('Upper Limit From Maximum Of Eigenvalues:')\n",
    "print(upperLimitFromMax(eigenvalues))\n",
    "print()\n",
    "\n",
    "print('Upper Limit From Dimensions:')\n",
    "print(upperLimitFromDims(mat))\n",
    "print()\n",
    "\n",
    "print('Lower Limit From Maximum And Minimum Of Eigenvalues:')\n",
    "print(lowerLimitFromMaxAndMin(eigenvalues))\n",
    "print()\n",
    "\n",
    "print('Lower Limit From Heller Lemma:')\n",
    "print(lowerLimitFromHellerLemma(mat))\n",
    "print()\n",
    "\n",
    "if graphIsConnected(mat):\n",
    "    print('Upper Limit From Edges Quantity:')\n",
    "    print(upperLimitFromEdges(mat))\n",
    "    print()\n",
    "\n",
    "if len(eigenvalues) - graphIsRegular(eigenvalues)[1] % 2 == 0 and graphIsConnected(mat):\n",
    "    print('Upper Limit For Regular And Connected Graph With Odd n - r:')\n",
    "    print(upperLimitForRegularAndConnected(eigenvalues, graphIsRegular(eigenvalues)[1], len(eigenvalues)))\n",
    "    print()\n",
    "    \n",
    "if graphIsRegular(eigenvalues)[0]:\n",
    "    print('Lower Limit From Regularity Index')\n",
    "    print(lowerLimitFromIndex(graphIsRegular(eigenvalues)[1], len(mat)))\n",
    "    print()"
   ]
  },
  {
   "cell_type": "code",
   "execution_count": null,
   "metadata": {},
   "outputs": [],
   "source": []
  }
 ],
 "metadata": {
  "kernelspec": {
   "display_name": "Python 3",
   "language": "python",
   "name": "python3"
  },
  "language_info": {
   "codemirror_mode": {
    "name": "ipython",
    "version": 3
   },
   "file_extension": ".py",
   "mimetype": "text/x-python",
   "name": "python",
   "nbconvert_exporter": "python",
   "pygments_lexer": "ipython3",
   "version": "3.7.1"
  }
 },
 "nbformat": 4,
 "nbformat_minor": 2
}
